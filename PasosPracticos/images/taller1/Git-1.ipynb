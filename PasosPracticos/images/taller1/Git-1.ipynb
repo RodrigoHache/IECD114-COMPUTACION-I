{
 "cells": [
  {
   "attachments": {},
   "cell_type": "markdown",
   "metadata": {},
   "source": [
    "<img style=\"float: left;\" src=\"./images/uv_logo_alta_rgb_azul.png \" \n",
    "\ttitle=\"Spyder\" width=\"200\" height=\"80\" />\n",
    "\n",
    "<br/>\n",
    "<br/>\n",
    "<br/>\n",
    "<br/>\n",
    "<br/>\n",
    "<br/>\n",
    "\n",
    "<center> <h1>  Laboratorio 1- GIT </h1> </center>\n",
    "<br/>\n",
    "<br/>\n",
    "\n",
    "**Equipo Docente: Rodrigo Avaria <rodrigo.avaria@uv.cl>; Nicolás Rivera <nicolas.rivera@uv.cl>**<br/>\n",
    "\n",
    "<br/>\n",
    "<br/>"
   ]
  },
  {
   "attachments": {},
   "cell_type": "markdown",
   "metadata": {},
   "source": [
    "1- En el Navegador, dirijase a [https://github.com/](la pájina oficial de GitHub).\n",
    "<center>\n",
    "<img src=\".\\images\\taller1\\git_home.png\" alt=\"texto alternativo\" width=\"500\" height=\"300\"/>\n",
    "</center>\n",
    "\n",
    "2- Con su correo, cree una cuenta (*sign up*).\n",
    "\n",
    "<center>\n",
    "<img src=\".\\images\\taller1\\git_sign_in.png\" alt=\"texto alternativo\" width=\"500\" height=\"300\"/>\n",
    "</center>"
   ]
  },
  {
   "cell_type": "markdown",
   "metadata": {},
   "source": []
  },
  {
   "cell_type": "markdown",
   "metadata": {},
   "source": []
  }
 ],
 "metadata": {
  "kernelspec": {
   "display_name": "Python 3",
   "language": "python",
   "name": "python3"
  },
  "language_info": {
   "codemirror_mode": {
    "name": "ipython",
    "version": 3
   },
   "file_extension": ".py",
   "mimetype": "text/x-python",
   "name": "python",
   "nbconvert_exporter": "python",
   "pygments_lexer": "ipython3",
   "version": "3.10.9"
  },
  "orig_nbformat": 4,
  "vscode": {
   "interpreter": {
    "hash": "6e3977c52f5249dbc2a33b897faad1e0916758085298811edbd14ed6ad707d81"
   }
  }
 },
 "nbformat": 4,
 "nbformat_minor": 2
}
